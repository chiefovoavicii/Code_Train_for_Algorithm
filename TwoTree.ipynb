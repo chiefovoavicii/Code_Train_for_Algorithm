{
 "cells": [
  {
   "cell_type": "code",
   "execution_count": 7,
   "metadata": {},
   "outputs": [
    {
     "name": "stdout",
     "output_type": "stream",
     "text": [
      "1\n"
     ]
    }
   ],
   "source": [
    "from typing import Optional\n",
    "\n",
    "class Treenode:\n",
    "    def __init__(self, val=0, left=None, right=None):\n",
    "        self.val = val\n",
    "        self.left = None\n",
    "        self.right = None\n",
    "class Solution:\n",
    "    def kthSmallest(self, root, k: int)-> int:\n",
    "        stack = []\n",
    "\n",
    "        while root or stack:\n",
    "            \n",
    "            while root:\n",
    "                stack.append(root)\n",
    "                root = root.left\n",
    "            root = stack.pop()\n",
    "            k -= 1\n",
    "            if k == 0:\n",
    "                return root.val\n",
    "            root = root.right\n",
    "\n",
    "n1 = Treenode(3)\n",
    "n2 = Treenode(1)\n",
    "n3 = Treenode(4)\n",
    "n4 = Treenode(2)\n",
    "\n",
    "\n",
    "\n",
    "n1.left = n2\n",
    "n1.right = n3\n",
    "n2.right = n4\n",
    "\n",
    "root = n1\n",
    "print(Solution().kthSmallest(root, 1))\n",
    "\n",
    "\n",
    "\n",
    "\n",
    "\n",
    "\n",
    "\n",
    "\n",
    "\n",
    "\n",
    "\n",
    "\n",
    "\n",
    "\n",
    "\n"
   ]
  },
  {
   "cell_type": "code",
   "execution_count": null,
   "metadata": {},
   "outputs": [
    {
     "ename": "TypeError",
     "evalue": "__init__() should return None, not 'int'",
     "output_type": "error",
     "traceback": [
      "\u001b[1;31m---------------------------------------------------------------------------\u001b[0m",
      "\u001b[1;31mTypeError\u001b[0m                                 Traceback (most recent call last)",
      "Cell \u001b[1;32mIn[5], line 12\u001b[0m\n\u001b[0;32m      8\u001b[0m         \u001b[38;5;28;01mreturn\u001b[39;00m \u001b[38;5;28mmax\u001b[39m(count\u001b[38;5;241m.\u001b[39mkeys(), key \u001b[38;5;241m=\u001b[39m count\u001b[38;5;241m.\u001b[39mget)\n\u001b[0;32m     10\u001b[0m input1 \u001b[38;5;241m=\u001b[39m [\u001b[38;5;241m3\u001b[39m,\u001b[38;5;241m4\u001b[39m,\u001b[38;5;241m5\u001b[39m,\u001b[38;5;241m3\u001b[39m,\u001b[38;5;241m3\u001b[39m,\u001b[38;5;241m4\u001b[39m,\u001b[38;5;241m3\u001b[39m]\n\u001b[1;32m---> 12\u001b[0m temp \u001b[38;5;241m=\u001b[39m \u001b[43mSolution\u001b[49m\u001b[43m(\u001b[49m\u001b[43minput1\u001b[49m\u001b[43m)\u001b[49m \n\u001b[0;32m     14\u001b[0m \u001b[38;5;28mprint\u001b[39m(Solution()\u001b[38;5;241m.\u001b[39mfunction1(input1))\n",
      "\u001b[1;31mTypeError\u001b[0m: __init__() should return None, not 'int'"
     ]
    }
   ],
   "source": [
    "from typing import List\n",
    "from collections import Counter\n",
    "\n",
    "\n",
    "class Solution:\n",
    "    def function1(self, nums:List[int])->int:\n",
    "        count = Counter(nums)\n",
    "        return max(count.keys(), key = count.get)\n",
    "    \n",
    "input1 = [3,4,5,3,3,4,3]\n",
    "\n",
    "\n",
    "\n",
    "print(Solution().function1(input1))"
   ]
  },
  {
   "cell_type": "code",
   "execution_count": 18,
   "metadata": {},
   "outputs": [
    {
     "name": "stdout",
     "output_type": "stream",
     "text": [
      "1 2 3\n",
      "3 2 1\n"
     ]
    }
   ],
   "source": [
    "class ListNode:\n",
    "    def __init__(self, val=0, next=None):\n",
    "        self.val = val\n",
    "        self.next = next\n",
    "\n",
    "class Solution:\n",
    "    def reverse(self,head:Optional[ListNode]):\n",
    "        if not head or not head.next:\n",
    "            return head\n",
    "        p1 = head.next\n",
    "        p2 = p1.next\n",
    "        head.next = None\n",
    "        while p1:\n",
    "            p1.next = head\n",
    "            head = p1\n",
    "            p1 = p2\n",
    "            if p2:\n",
    "                p2 = p2.next\n",
    "\n",
    "        return head\n",
    "    \n",
    "\n",
    "head = ptr = ListNode(1)\n",
    "ptr.next = ListNode(2)\n",
    "ptr = ptr.next\n",
    "ptr.next = ListNode(3)\n",
    "print(head.val,head.next.val,head.next.next.val)\n",
    "\n",
    "head = Solution().reverse(head)\n",
    "print(head.val,head.next.val,head.next.next.val)\n",
    "\n",
    "\n",
    "\n",
    "    "
   ]
  },
  {
   "cell_type": "code",
   "execution_count": null,
   "metadata": {},
   "outputs": [],
   "source": [
    "a,b = map(int, input().split())\n",
    "\n",
    "print(a,b)"
   ]
  }
 ],
 "metadata": {
  "kernelspec": {
   "display_name": "Python 3",
   "language": "python",
   "name": "python3"
  },
  "language_info": {
   "codemirror_mode": {
    "name": "ipython",
    "version": 3
   },
   "file_extension": ".py",
   "mimetype": "text/x-python",
   "name": "python",
   "nbconvert_exporter": "python",
   "pygments_lexer": "ipython3",
   "version": "3.11.7"
  }
 },
 "nbformat": 4,
 "nbformat_minor": 2
}
