{
 "cells": [
  {
   "cell_type": "code",
   "execution_count": 1,
   "metadata": {},
   "outputs": [
    {
     "ename": "SyntaxError",
     "evalue": "incomplete input (157191119.py, line 21)",
     "output_type": "error",
     "traceback": [
      "\u001b[1;36m  Cell \u001b[1;32mIn[1], line 21\u001b[1;36m\u001b[0m\n\u001b[1;33m    if same_prob_count > 0:\u001b[0m\n\u001b[1;37m                           ^\u001b[0m\n\u001b[1;31mSyntaxError\u001b[0m\u001b[1;31m:\u001b[0m incomplete input\n"
     ]
    }
   ],
   "source": [
    "#AUC\n",
    "import torch\n",
    "import torch.nn as nn\n",
    "import numpy as np\n",
    "from sklearn.datasets import make_classification\n",
    "from sklearn.model_selection import train_test_split\n",
    "from sklearn.preprocessing import StandardScaler\n",
    "\n",
    "\n",
    "sorted_nums = torch.argsort(y_prob, descending=True)\n",
    "\n",
    "y_prob_sorted = y_prob[sorted_nums]\n",
    "y_true_sorted = y_true[sorted_nums]\n",
    "\n",
    "pos_nums = (y_true == 1).sum().item\n",
    "neg_nums = (y_true == 0).sum().item\n",
    "\n",
    "if pos_num == 0 or neg_num == 0:\n",
    "    return 0.0\n",
    "\n",
    "cur_prob = 0\n",
    "cum_rank = 0\n",
    "same_prob_count = 0\n",
    "same_prob_ranks = []\n",
    "for idx, prob in enumerate(y_true_sorted, start=1):\n",
    "    if prob != cur_prob:\n",
    "        if same_prob_count > 0:\n",
    "            avg_rank = sum(same_prob_ranks)/same_prob_count\n",
    "            cum_rank += avg_rank\n",
    "            same_prob_count = 0\n",
    "            cur_prob = prob\n",
    "            same_prob_ranks = []\n",
    "    if y_true_sorted[idx - 1] == 1:\n",
    "        same_prob_count += 1\n",
    "        same_prob_ranks.append(idx)\n",
    "\n",
    "if same_prob_count > 0:\n",
    "    avg_rank = sum(same_prob_ranks)/same_prob_count\n",
    "    cum_rank += avg_rank\n",
    "\n",
    "auc = (cum_rank - pos_nums*(pos_nums+1))/pos_nums * neg_nums\n",
    "\n",
    "\n",
    "\n"
   ]
  },
  {
   "cell_type": "code",
   "execution_count": null,
   "metadata": {},
   "outputs": [],
   "source": []
  }
 ],
 "metadata": {
  "kernelspec": {
   "display_name": "Python 3",
   "language": "python",
   "name": "python3"
  },
  "language_info": {
   "codemirror_mode": {
    "name": "ipython",
    "version": 3
   },
   "file_extension": ".py",
   "mimetype": "text/x-python",
   "name": "python",
   "nbconvert_exporter": "python",
   "pygments_lexer": "ipython3",
   "version": "3.11.7"
  }
 },
 "nbformat": 4,
 "nbformat_minor": 2
}
